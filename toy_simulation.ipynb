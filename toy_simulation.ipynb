{
 "cells": [
  {
   "cell_type": "markdown",
   "metadata": {},
   "source": [
    "# Toy Simulation of CAST model\n",
    "\n",
    "The goal of this notebook os to illustrate how to implement a *CAST* model in the case of a disease propagation (epidemic). Some of the parameters here come from the situation in France. See the [README](README.md) for more details about the *CAST* model."
   ]
  },
  {
   "cell_type": "code",
   "execution_count": 1,
   "metadata": {},
   "outputs": [],
   "source": [
    "from classes import State, Agent, Cell, Map\n",
    "from numpy import array, around, ones, concatenate, where, linspace\n",
    "from numpy.random import choice, beta, uniform\n",
    "from pprint import pprint\n",
    "from time import time\n",
    "from matplotlib import rcParams\n",
    "import matplotlib.pyplot as plt\n",
    "from matplotlib.pyplot import cm"
   ]
  },
  {
   "cell_type": "markdown",
   "metadata": {},
   "source": [
    "## States \n",
    "### Attributes\n",
    "Each state has three *attributes*, all taking value between 0 and 1:\n",
    "\n",
    "1. *contagiousity*: influences (linearly) the probability that an agent in this state infects other agents in the same cell\n",
    "2. *sensitivity*: influences (linearly) the probability for an agent in this state gets infected from a sick agent in the same cell\n",
    "3. *severity*: influences (inverse linearly) the probability that an agent in this state will move to another cell\n",
    "\n",
    "### Definitions\n",
    "We define seven states:\n",
    "\n",
    "1. *healthy*: not contagious but very sensitive\n",
    "2. *asymptomatic*: contagious but insensitive (since already infected), very low severity\n",
    "3. *mild*: same as asymptomatic, but with higher severity\n",
    "4. *hospital*: agent in the hospital. Same as mild and symptomatic, but with highest severity (can't move)\n",
    "5. *reanimation*: same attribute values that *hospital*\n",
    "6. *dead*: sensitivity and contagiousity are 0, severity is maximal (1, can't move)\n",
    "7. *recovered*: same as *healthy* but not sensitive (considered completely immune as an approximation)"
   ]
  },
  {
   "cell_type": "code",
   "execution_count": 2,
   "metadata": {},
   "outputs": [],
   "source": [
    "state0 = State(id=0, name='healthy', contagiousity=0, sensitivity=1, severity=0)\n",
    "state1 = State(id=1, name='asymptomatic', contagiousity=.05, sensitivity=0, severity=0.1)\n",
    "state2 = State(id=2, name='mild', contagiousity=.15, sensitivity=0, severity=0.8)\n",
    "state3 = State(id=3, name='hospital', contagiousity=.1, sensitivity=0, severity=1)\n",
    "state4 = State(id=4, name='reanimation', contagiousity=.05, sensitivity=0, severity=1)\n",
    "state5 = State(id=5, name='dead', contagiousity=0, sensitivity=0, severity=1)\n",
    "state6 = State(id=6, name='recovered', contagiousity=0, sensitivity=0, severity=0)\n",
    "\n",
    "states = [state0, state1, state2, state3, state4, state5, state6]\n",
    "id2state = {state.get_id(): state.get_name() for state in states}"
   ]
  },
  {
   "cell_type": "markdown",
   "metadata": {},
   "source": [
    "### Transitions\n",
    "The *transition*s describe the probability of transitioning by itself from one state to another, without considering cases of infection. As we have 7 *state*s, each transition is a 7x7 matrix. The element $(i, j)$ of such a matrix attached to an agent is the probability for this agent to transition forom state $i$ to state $j$. For example $(3, 7)$ is the probability to transition from *mild* to *recovered*.\n",
    "\n",
    "Each *agent* can have its own transition matrix, but here to simplify we define just a few correspondig to various categories of population:"
   ]
  },
  {
   "cell_type": "code",
   "execution_count": 3,
   "metadata": {},
   "outputs": [],
   "source": [
    "# For people younger than 15yo\n",
    "transitions_15 = array([[1, 0, 0, 0, 0, 0, 0], \n",
    "                     [0, 0, 0.5, 0, 0, 0, 0.5], \n",
    "                     [0, 0, 0, 0.3, 0, 0, 0.7],\n",
    "                     [0, 0, 0, 0, 0.3, 0, 0.7],\n",
    "                     [0, 0, 0, 0, 0, 0.5, 0.5],\n",
    "                     [0, 0, 0, 0, 0, 1, 0],\n",
    "                     [0, 0, 0, 0, 0, 0, 1]])\n",
    "\n",
    "# For people younger between 15 and 44yo\n",
    "transitions_15_44 = array([[1, 0, 0, 0, 0, 0, 0], \n",
    "                     [0, 0, 0.5, 0, 0, 0, 0.5], \n",
    "                     [0, 0, 0, 0.3, 0, 0, 0.7],\n",
    "                     [0, 0, 0, 0, 0.3, 0, 0.7],\n",
    "                     [0, 0, 0, 0, 0, 0.5, 0.5],\n",
    "                     [0, 0, 0, 0, 0, 1, 0],\n",
    "                     [0, 0, 0, 0, 0, 0, 1]])\n",
    "\n",
    "# For people younger between 45 and 64yo\n",
    "transitions_45_64 = array([[1, 0, 0, 0, 0, 0, 0], \n",
    "                     [0, 0, 0.5, 0, 0, 0, 0.5], \n",
    "                     [0, 0, 0, 0.3, 0, 0, 0.7],\n",
    "                     [0, 0, 0, 0, 0.3, 0, 0.7],\n",
    "                     [0, 0, 0, 0, 0, 0.5, 0.5],\n",
    "                     [0, 0, 0, 0, 0, 1, 0],\n",
    "                     [0, 0, 0, 0, 0, 0, 1]])\n",
    "\n",
    "# For people younger between 65 and 75yo\n",
    "transitions_65_74 = array([[1, 0, 0, 0, 0, 0, 0], \n",
    "                     [0, 0, 0.5, 0, 0, 0, 0.5], \n",
    "                     [0, 0, 0, 0.3, 0, 0, 0.7],\n",
    "                     [0, 0, 0, 0, 0.3, 0, 0.7],\n",
    "                     [0, 0, 0, 0, 0, 0.5, 0.5],\n",
    "                     [0, 0, 0, 0, 0, 1, 0],\n",
    "                     [0, 0, 0, 0, 0, 0, 1]])\n",
    "\n",
    "# For people younger >= 75yo\n",
    "transitions_75 = array([[1, 0, 0, 0, 0, 0, 0], \n",
    "                     [0, 0, 0.5, 0, 0, 0, 0.5], \n",
    "                     [0, 0, 0, 0.3, 0, 0, 0.7],\n",
    "                     [0, 0, 0, 0, 0.3, 0, 0.7],\n",
    "                     [0, 0, 0, 0, 0, 0.5, 0.5],\n",
    "                     [0, 0, 0, 0, 0, 1, 0],\n",
    "                     [0, 0, 0, 0, 0, 0, 1]])\n",
    "\n",
    "transitions = [transitions_15, transitions_15_44, transitions_45_64, transitions_65_74, transitions_75]"
   ]
  },
  {
   "cell_type": "code",
   "execution_count": 4,
   "metadata": {},
   "outputs": [],
   "source": [
    "# TODO: check statistics to get more realistic transition matrices"
   ]
  },
  {
   "cell_type": "markdown",
   "metadata": {},
   "source": [
    "## Agents\n",
    "We create 1000 *agent*s in this simulation.\n",
    "\n",
    "`prop_population` define the proportion of the French population in the age classes defined for the transitions, approximated from the [French population pyramid](http://perspective.usherbrooke.ca/bilan/servlet/BMPagePyramide?codePays=FRA&annee=2018) in 2018.\n",
    "\n",
    "The age class of each *agent* is drawn randomly according to those proportions, and its transition matrix corresponds to its drawn age class.\n",
    "\n",
    "*Remark:* This simulation could be refined by defining more granular demographics (by genders, health history etc.) and corresponding transitions."
   ]
  },
  {
   "cell_type": "code",
   "execution_count": 5,
   "metadata": {},
   "outputs": [],
   "source": [
    "N_AGENTS = 1000"
   ]
  },
  {
   "cell_type": "code",
   "execution_count": 6,
   "metadata": {},
   "outputs": [],
   "source": [
    "prop_population = [.17, .35, .3, .1, .08]\n",
    "draw_transitions = choice(range(len(transitions)), N_AGENTS, p=prop_population)"
   ]
  },
  {
   "cell_type": "markdown",
   "metadata": {},
   "source": [
    "Each *agent* has durations corresponding to each state it can take. For each *agent* we draw them according to a [beta distribution](https://en.wikipedia.org/wiki/Beta_distribution) with min, max and mean value corresponding approximatively to available statistics:"
   ]
  },
  {
   "cell_type": "code",
   "execution_count": 7,
   "metadata": {},
   "outputs": [],
   "source": [
    "def get_alpha_beta(min_value, max_value, mean_value):\n",
    "    \"\"\" for the duration on a state, draw from a beta distribution with parameter alpha and beta \"\"\"\n",
    "    x = (mean_value - min_value) / (max_value - min_value)\n",
    "    z = 1 / x - 1\n",
    "    a, b = 2, 2 * z\n",
    "    return a, b\n",
    "\n",
    "\n",
    "def draw_beta_durations(min_value, max_value, mean_value, n_values):\n",
    "    \"\"\" draw `n_values` values between `min_value` and `max_value` having \n",
    "    `mean_value` as (asymptotical) average\"\"\"\n",
    "    a, b = get_alpha_beta(min_value, max_value, mean_value)\n",
    "    durations = beta(a, b, n_values) * (max_value - min_value) + min_value\n",
    "    return around(durations).reshape(-1, 1)"
   ]
  },
  {
   "cell_type": "code",
   "execution_count": 8,
   "metadata": {},
   "outputs": [
    {
     "name": "stdout",
     "output_type": "stream",
     "text": [
      "durations.shape: (1000, 7), OK? True\n"
     ]
    }
   ],
   "source": [
    "durations_healthy = durations_dead = durations_recovered = ones(shape=(N_AGENTS, 1)) * -1\n",
    "durations_asymptomatic = draw_beta_durations(1, 14, 5, N_AGENTS)\n",
    "durations_mild = draw_beta_durations(5, 10, 7, N_AGENTS)\n",
    "durations_hospital = draw_beta_durations(1, 8, 4, N_AGENTS)\n",
    "durations_reanimation = draw_beta_durations(15, 30, 21, N_AGENTS)\n",
    "\n",
    "durations = [durations_healthy, durations_asymptomatic, durations_mild, \n",
    "             durations_hospital, durations_reanimation, durations_dead, durations_recovered]\n",
    "\n",
    "durations = concatenate(durations, axis=1)\n",
    "\n",
    "# Check if the shape of `durations` is OK\n",
    "shape_durations_ok = (durations.shape == (N_AGENTS, len(states)))\n",
    "print(f'durations.shape: {durations.shape}, OK? {shape_durations_ok}')"
   ]
  },
  {
   "cell_type": "markdown",
   "metadata": {},
   "source": [
    "The parameter `p_move` representing the probability for an *agent* to be selected (if healthy) for a movement is drawn uniformly randomly, without consideration for the age or whatever of the *agent* (*Remark*: that could be also a possibility of refinement):"
   ]
  },
  {
   "cell_type": "code",
   "execution_count": 9,
   "metadata": {},
   "outputs": [],
   "source": [
    "p_moves = uniform(size=N_AGENTS)"
   ]
  },
  {
   "cell_type": "markdown",
   "metadata": {},
   "source": [
    "In France there are in average 2.2 people living per home. So we consider the first $N\\_AGENTS / 2.2$ *cell*s to be home *cell*s, and dispatch those home *cell*s randomly among the *agent*s:"
   ]
  },
  {
   "cell_type": "code",
   "execution_count": 10,
   "metadata": {},
   "outputs": [],
   "source": [
    "AVG_AGENTS_HOME = 2.2\n",
    "\n",
    "n_home_cells = int(N_AGENTS / AVG_AGENTS_HOME)\n",
    "draw_home_cells = choice(range(n_home_cells), N_AGENTS)"
   ]
  },
  {
   "cell_type": "markdown",
   "metadata": {},
   "source": [
    "And now we create the *agent*s according to those parameters:"
   ]
  },
  {
   "cell_type": "code",
   "execution_count": 11,
   "metadata": {},
   "outputs": [],
   "source": [
    "agents = []\n",
    "for i in range(N_AGENTS):\n",
    "    agent = Agent(id=i, p_move=p_moves[i], \n",
    "                  transitions=transitions[draw_transitions[i]], \n",
    "                  states=states, \n",
    "                  durations=durations[i,:].flatten(), \n",
    "                  current_state=state0, \n",
    "                  home_cell_id=draw_home_cells[i])\n",
    "    agents.append(agent)"
   ]
  },
  {
   "cell_type": "markdown",
   "metadata": {},
   "source": [
    "## Cells\n",
    "Here we consider 500 cells, randomly uniformly distributed on a 100x100 surface:"
   ]
  },
  {
   "cell_type": "code",
   "execution_count": 12,
   "metadata": {},
   "outputs": [],
   "source": [
    "N_CELLS = 500"
   ]
  },
  {
   "cell_type": "code",
   "execution_count": 13,
   "metadata": {},
   "outputs": [],
   "source": [
    "positions_x = uniform(low=0, high=100, size=N_CELLS).reshape(-1, 1)\n",
    "positions_y = uniform(low=0, high=100, size=N_CELLS).reshape(-1, 1)\n",
    "\n",
    "positions = concatenate([positions_x, positions_y], axis=1)"
   ]
  },
  {
   "cell_type": "markdown",
   "metadata": {},
   "source": [
    "Their attractivity is randomly uniformly distributed between 0 and 1, besides home *cell*s, that have a fixed attractivity of 0.1. The idea behind it is that home *cell*s are not very attractive for agents for which it's not the home *cell*."
   ]
  },
  {
   "cell_type": "code",
   "execution_count": 14,
   "metadata": {},
   "outputs": [],
   "source": [
    "attractivities = uniform(size=N_CELLS)\n",
    "attractivities[:n_home_cells] = .1"
   ]
  },
  {
   "cell_type": "markdown",
   "metadata": {},
   "source": [
    "Their unsafety is randomly uniformly distributed between 0 and 1, besides home *cell*s, that have a fixed unsafety of 1. The idea behind it is that home *cell*s are are very unsafe (no social distancing at home)."
   ]
  },
  {
   "cell_type": "code",
   "execution_count": 15,
   "metadata": {},
   "outputs": [],
   "source": [
    "unsafeties = uniform(size=N_CELLS)\n",
    "unsafeties[:n_home_cells] = 1"
   ]
  },
  {
   "cell_type": "markdown",
   "metadata": {},
   "source": [
    "Now we create the *cell*s with those parameters:"
   ]
  },
  {
   "cell_type": "code",
   "execution_count": 16,
   "metadata": {},
   "outputs": [],
   "source": [
    "cells = []\n",
    "for i in range(N_CELLS):\n",
    "    cell = Cell(id=i, \n",
    "                position=positions[i,:].flatten(), \n",
    "                attractivity=attractivities[i], \n",
    "                unsafety=unsafeties[i], \n",
    "                agents=[agents[j] for j in where(draw_home_cells == i)[0]])\n",
    "    cells.append(cell)"
   ]
  },
  {
   "cell_type": "markdown",
   "metadata": {},
   "source": [
    "## Map\n",
    "Now we create a *map* containing the *agent*s and *cell*s created above:"
   ]
  },
  {
   "cell_type": "code",
   "execution_count": 17,
   "metadata": {},
   "outputs": [],
   "source": [
    "possible_state_ids = [state.get_id() for state in states]\n",
    "\n",
    "map = Map(cells, agents, possible_state_ids, verbose=0)"
   ]
  },
  {
   "cell_type": "markdown",
   "metadata": {},
   "source": [
    "## Simulation\n",
    "Now that the context is set up, we can run the simulation itself.\n",
    "\n",
    "First we chose one agent at random that gets infected:"
   ]
  },
  {
   "cell_type": "code",
   "execution_count": 18,
   "metadata": {},
   "outputs": [],
   "source": [
    "infected_agent_id = choice(range(N_AGENTS))\n",
    "map.get_agent(infected_agent_id).get_infected()"
   ]
  },
  {
   "cell_type": "markdown",
   "metadata": {},
   "source": [
    "Then we run a simulation over 60 time periods (days) having each 3 move rounds. For each time period, we print the repartition of the population among the states, and the *R* factor:"
   ]
  },
  {
   "cell_type": "code",
   "execution_count": 19,
   "metadata": {},
   "outputs": [
    {
     "name": "stdout",
     "output_type": "stream",
     "text": [
      "all 60 periods computed in 6.02s\n"
     ]
    }
   ],
   "source": [
    "N_PERIODS = 60\n",
    "N_MOVES_PER_PERIOD = 3\n",
    "\n",
    "periods_states = {}\n",
    "t_start = time()\n",
    "for i in range(N_PERIODS):\n",
    "    for j in range(N_MOVES_PER_PERIOD):\n",
    "        map.make_move()\n",
    "    map.forward_all_cells()\n",
    "    states_repartition = map.get_states_numbers()\n",
    "    states_repartition = {id2state.get(k): v for k, v in states_repartition.items()}\n",
    "    r = map.get_r()\n",
    "    period_state = {'repartition': states_repartition, 'r': r}\n",
    "    periods_states[i] = period_state\n",
    "    # print(f'state of after period {i}:')\n",
    "    # pprint(period_state)\n",
    "    \n",
    "    \n",
    "print(f'all {N_PERIODS} periods computed in {round(time() - t_start, 3)}s')\n",
    "    "
   ]
  },
  {
   "cell_type": "markdown",
   "metadata": {},
   "source": [
    "**NB:** \n",
    "* The *R* factor is at the end negative, due to the agents that recovered. The calculation of *R* should probably be redefined to take account of this\n",
    "* The number of healthy people gets stable at 5 at the end, means the heard immunity is reached aftercalculation 99.5% of the population got infected. The set up and/or the parameters have to be modified to get a more realistic value of around 70%\n",
    "* The simulation runs quite fast, there is room to increase the population and the number of cells in the map\n",
    "\n",
    "Now we plot the data we obtained through the simulation, means the repartition of the population among states through time:"
   ]
  },
  {
   "cell_type": "code",
   "execution_count": 20,
   "metadata": {},
   "outputs": [
    {
     "data": {
      "text/plain": [
       "[]"
      ]
     },
     "execution_count": 20,
     "metadata": {},
     "output_type": "execute_result"
    },
    {
     "data": {
      "image/png": "[encoded data removed]",
      "text/plain": [
       "<Figure size 720x360 with 1 Axes>"
      ]
     },
     "metadata": {
      "needs_background": "light"
     },
     "output_type": "display_data"
    }
   ],
   "source": [
    "rcParams['figure.figsize'] = [10, 5]\n",
    "\n",
    "\n",
    "states_names = [state.get_name() for state in states]\n",
    "X = array(list(periods_states.keys()))\n",
    "\n",
    "values = {state_name: [v.get('repartition').get(state_name) for v in periods_states.values()] for state_name in states_names}\n",
    "\n",
    "fig = plt.figure()\n",
    "ax = fig.add_axes([0,0,1,1])\n",
    "\n",
    "colors = cm.rainbow(linspace(0, 1, len(states_names)))\n",
    "delta = 1 / len(states_names)\n",
    "for i, state_name in enumerate(states_names):\n",
    "    ax.bar(X + i * delta, values.get(state_name), color=colors[i], width=delta, label=state_name)\n",
    "\n",
    "ax.legend()\n",
    "ax.set_title('Number of cases in the Different Sates by Time')\n",
    "plt.plot()     "
   ]
  },
  {
   "cell_type": "markdown",
   "metadata": {},
   "source": [
    "At least the shape of the curves looks realistic. It's a good sign. However, the agents seem to get infected to fast with the chosen parameterschosen/setup.\n",
    "\n",
    "The goal now would be to run a simulation with: \n",
    "* far more agent \n",
    "* more precise transition matrices\n",
    "* adjusted parameters (contagiousity of the states etc.)\n",
    "* adjusted number of move rounds per time period\n",
    "* simulate the effect of a lock down by re-adjusting the parameters (less mobility of the agents, less attractivity of the cells, less unsafety in non-home cells)"
   ]
  },
  {
   "cell_type": "code",
   "execution_count": null,
   "metadata": {},
   "outputs": [],
   "source": []
  }
 ],
 "metadata": {
  "kernelspec": {
   "display_name": "Python 3",
   "language": "python",
   "name": "python3"
  },
  "language_info": {
   "codemirror_mode": {
    "name": "ipython",
    "version": 3
   },
   "file_extension": ".py",
   "mimetype": "text/x-python",
   "name": "python",
   "nbconvert_exporter": "python",
   "pygments_lexer": "ipython3",
   "version": "3.6.9"
  }
 },
 "nbformat": 4,
 "nbformat_minor": 2
}
