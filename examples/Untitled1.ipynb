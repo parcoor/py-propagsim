{
 "cells": [
  {
   "cell_type": "code",
   "execution_count": 23,
   "metadata": {},
   "outputs": [],
   "source": [
    "import pandas as pd\n",
    "from datetime import datetime, timedelta"
   ]
  },
  {
   "cell_type": "code",
   "execution_count": 31,
   "metadata": {},
   "outputs": [],
   "source": [
    "df.to_csv('../data/overall_cases.csv', index=False)"
   ]
  },
  {
   "cell_type": "code",
   "execution_count": 28,
   "metadata": {},
   "outputs": [
    {
     "name": "stdout",
     "output_type": "stream",
     "text": [
      "2020-03-19 00:00:00\n",
      "2020-03-25 00:00:00\n"
     ]
    }
   ],
   "source": [
    "n_periods = 7\n",
    "\n",
    "day = datetime(2020, 3, 18)\n",
    "day_start = day + timedelta(days=1)\n",
    "day_end = day + timedelta(days=n_periods)\n",
    "\n",
    "print(day_start)\n",
    "print(day_end)"
   ]
  },
  {
   "cell_type": "code",
   "execution_count": 29,
   "metadata": {},
   "outputs": [
    {
     "data": {
      "text/html": [
       "<div>\n",
       "<style scoped>\n",
       "    .dataframe tbody tr th:only-of-type {\n",
       "        vertical-align: middle;\n",
       "    }\n",
       "\n",
       "    .dataframe tbody tr th {\n",
       "        vertical-align: top;\n",
       "    }\n",
       "\n",
       "    .dataframe thead th {\n",
       "        text-align: right;\n",
       "    }\n",
       "</style>\n",
       "<table border=\"1\" class=\"dataframe\">\n",
       "  <thead>\n",
       "    <tr style=\"text-align: right;\">\n",
       "      <th></th>\n",
       "      <th>day</th>\n",
       "      <th>hosp</th>\n",
       "      <th>icu</th>\n",
       "      <th>recovered</th>\n",
       "      <th>death</th>\n",
       "    </tr>\n",
       "  </thead>\n",
       "  <tbody>\n",
       "    <tr>\n",
       "      <th>1</th>\n",
       "      <td>2020-03-19</td>\n",
       "      <td>4073</td>\n",
       "      <td>1002</td>\n",
       "      <td>1180</td>\n",
       "      <td>327</td>\n",
       "    </tr>\n",
       "    <tr>\n",
       "      <th>2</th>\n",
       "      <td>2020-03-20</td>\n",
       "      <td>5226</td>\n",
       "      <td>1297</td>\n",
       "      <td>1587</td>\n",
       "      <td>450</td>\n",
       "    </tr>\n",
       "    <tr>\n",
       "      <th>3</th>\n",
       "      <td>2020-03-21</td>\n",
       "      <td>5900</td>\n",
       "      <td>1453</td>\n",
       "      <td>1811</td>\n",
       "      <td>525</td>\n",
       "    </tr>\n",
       "    <tr>\n",
       "      <th>4</th>\n",
       "      <td>2020-03-22</td>\n",
       "      <td>6954</td>\n",
       "      <td>1674</td>\n",
       "      <td>2117</td>\n",
       "      <td>632</td>\n",
       "    </tr>\n",
       "    <tr>\n",
       "      <th>5</th>\n",
       "      <td>2020-03-23</td>\n",
       "      <td>8673</td>\n",
       "      <td>2080</td>\n",
       "      <td>2567</td>\n",
       "      <td>860</td>\n",
       "    </tr>\n",
       "    <tr>\n",
       "      <th>6</th>\n",
       "      <td>2020-03-24</td>\n",
       "      <td>10176</td>\n",
       "      <td>2516</td>\n",
       "      <td>3281</td>\n",
       "      <td>1100</td>\n",
       "    </tr>\n",
       "    <tr>\n",
       "      <th>7</th>\n",
       "      <td>2020-03-25</td>\n",
       "      <td>12072</td>\n",
       "      <td>2935</td>\n",
       "      <td>4085</td>\n",
       "      <td>1388</td>\n",
       "    </tr>\n",
       "  </tbody>\n",
       "</table>\n",
       "</div>"
      ],
      "text/plain": [
       "         day   hosp   icu  recovered  death\n",
       "1 2020-03-19   4073  1002       1180    327\n",
       "2 2020-03-20   5226  1297       1587    450\n",
       "3 2020-03-21   5900  1453       1811    525\n",
       "4 2020-03-22   6954  1674       2117    632\n",
       "5 2020-03-23   8673  2080       2567    860\n",
       "6 2020-03-24  10176  2516       3281   1100\n",
       "7 2020-03-25  12072  2935       4085   1388"
      ]
     },
     "execution_count": 29,
     "metadata": {},
     "output_type": "execute_result"
    }
   ],
   "source": [
    "df_periods = df.loc[(df['day'] >= day_start) & (df['day'] <= day_end)]\n",
    "\n",
    "df_periods"
   ]
  },
  {
   "cell_type": "code",
   "execution_count": 34,
   "metadata": {},
   "outputs": [],
   "source": [
    "import numpy as np"
   ]
  },
  {
   "cell_type": "code",
   "execution_count": 36,
   "metadata": {},
   "outputs": [
    {
     "data": {
      "text/plain": [
       "1200"
      ]
     },
     "execution_count": 36,
     "metadata": {},
     "output_type": "execute_result"
    }
   ],
   "source": [
    "id_hosp = 3\n",
    "evaluation = (np.array([1, 2, 4, 3, 5]), np.array([23, 32, 45, 12, 21]))\n",
    "\n",
    "\n",
    "n_hosp = evaluation[1][evaluation[0] == id_hosp][0] * 100\n",
    "              \n",
    "n_hosp"
   ]
  },
  {
   "cell_type": "code",
   "execution_count": 73,
   "metadata": {},
   "outputs": [],
   "source": [
    "imperial_df = pd.read_csv('../doc/estimates-imperial-college.csv')\n",
    "\n",
    "imperial_df = imperial_df.loc[imperial_df['country'] == 'France', :].reset_index(drop=True)\n",
    "\n",
    "imperial_df['time'] = pd.to_datetime(imperial_df['time'])\n",
    "# imperial_df.set_index('time', inplace=True)\n",
    "\n",
    "# imperial_df.plot()\n",
    "# plt.show()"
   ]
  },
  {
   "cell_type": "code",
   "execution_count": 75,
   "metadata": {},
   "outputs": [
    {
     "data": {
      "text/plain": [
       "array(['Unnamed: 0', 'time', 'country', 'reported_cases',\n",
       "       'reported_cases_cumulative',\n",
       "       'predicted_infections_mean_cumulative',\n",
       "       'predicted_infections_lower_CI_95_cumulative',\n",
       "       'predicted_infections_higher_CI_95_cumulative',\n",
       "       'predicted_infections_mean', 'predicted_infections_lower_CI_95',\n",
       "       'predicted_infections_higher_CI_95_cumulative.1',\n",
       "       'reported_deaths', 'reported_deaths_cumulative',\n",
       "       'estimated_deaths_mean_cumulative',\n",
       "       'estimated_deaths_lower_CI_95_cumulative',\n",
       "       'estimated_deaths_higher_CI_95_cumulative',\n",
       "       'estimated_deaths_mean', 'estimated_deaths_lower_CI_95',\n",
       "       'estimated_deaths_higher_CI_95',\n",
       "       'mean_time_varying_reproduction_number_R(t)',\n",
       "       'time_varying_reproduction_number_R(t)_lower_CI_95',\n",
       "       'time_varying_reproduction_number_R(t)_higher_CI_95'], dtype=object)"
      ]
     },
     "execution_count": 75,
     "metadata": {},
     "output_type": "execute_result"
    }
   ],
   "source": [
    "imperial_df.columns.values"
   ]
  },
  {
   "cell_type": "code",
   "execution_count": 68,
   "metadata": {},
   "outputs": [
    {
     "data": {
      "text/html": [
       "<div>\n",
       "<style scoped>\n",
       "    .dataframe tbody tr th:only-of-type {\n",
       "        vertical-align: middle;\n",
       "    }\n",
       "\n",
       "    .dataframe tbody tr th {\n",
       "        vertical-align: top;\n",
       "    }\n",
       "\n",
       "    .dataframe thead th {\n",
       "        text-align: right;\n",
       "    }\n",
       "</style>\n",
       "<table border=\"1\" class=\"dataframe\">\n",
       "  <thead>\n",
       "    <tr style=\"text-align: right;\">\n",
       "      <th></th>\n",
       "      <th>day</th>\n",
       "      <th>estimated_deaths_mean_cumulative</th>\n",
       "      <th>death</th>\n",
       "    </tr>\n",
       "  </thead>\n",
       "  <tbody>\n",
       "    <tr>\n",
       "      <th>0</th>\n",
       "      <td>2020-04-15</td>\n",
       "      <td>14223.140010</td>\n",
       "      <td>10643</td>\n",
       "    </tr>\n",
       "    <tr>\n",
       "      <th>1</th>\n",
       "      <td>2020-04-16</td>\n",
       "      <td>14965.365450</td>\n",
       "      <td>11053</td>\n",
       "    </tr>\n",
       "    <tr>\n",
       "      <th>2</th>\n",
       "      <td>2020-04-17</td>\n",
       "      <td>15704.300267</td>\n",
       "      <td>11470</td>\n",
       "    </tr>\n",
       "    <tr>\n",
       "      <th>3</th>\n",
       "      <td>2020-04-18</td>\n",
       "      <td>16439.015544</td>\n",
       "      <td>11834</td>\n",
       "    </tr>\n",
       "    <tr>\n",
       "      <th>4</th>\n",
       "      <td>2020-04-19</td>\n",
       "      <td>17168.886859</td>\n",
       "      <td>12061</td>\n",
       "    </tr>\n",
       "    <tr>\n",
       "      <th>5</th>\n",
       "      <td>2020-04-20</td>\n",
       "      <td>17893.386498</td>\n",
       "      <td>12505</td>\n",
       "    </tr>\n",
       "    <tr>\n",
       "      <th>6</th>\n",
       "      <td>2020-04-21</td>\n",
       "      <td>18611.759391</td>\n",
       "      <td>12892</td>\n",
       "    </tr>\n",
       "    <tr>\n",
       "      <th>7</th>\n",
       "      <td>2020-04-22</td>\n",
       "      <td>19323.621531</td>\n",
       "      <td>13225</td>\n",
       "    </tr>\n",
       "  </tbody>\n",
       "</table>\n",
       "</div>"
      ],
      "text/plain": [
       "         day  estimated_deaths_mean_cumulative  death\n",
       "0 2020-04-15                      14223.140010  10643\n",
       "1 2020-04-16                      14965.365450  11053\n",
       "2 2020-04-17                      15704.300267  11470\n",
       "3 2020-04-18                      16439.015544  11834\n",
       "4 2020-04-19                      17168.886859  12061\n",
       "5 2020-04-20                      17893.386498  12505\n",
       "6 2020-04-21                      18611.759391  12892\n",
       "7 2020-04-22                      19323.621531  13225"
      ]
     },
     "execution_count": 68,
     "metadata": {},
     "output_type": "execute_result"
    }
   ],
   "source": [
    "imperial_df = pd.read_csv('../doc/estimates-imperial-college.csv')\n",
    "imperial_df = imperial_df.rename(columns={'time': 'day'})\n",
    "imperial_df['day'] = pd.to_datetime(imperial_df['day'])\n",
    "\n",
    "start_day = datetime(2020, 4, 15)\n",
    "end_day = datetime(2020, 4, 22)\n",
    "\n",
    "imperial_df = imperial_df.loc[(imperial_df['country'] == 'France') & (imperial_df['day'] >= start_day) & (imperial_df['day'] <= end_day)]\n",
    "\n",
    "# imperial_df = imperial_df.loc[:, ['day', 'estimated_deaths_mean_cumulative']]\n",
    "\n",
    "imperial_df = imperial_df.loc[:, ['day', 'estimated_deaths_mean_cumulative']]\n",
    "\n",
    "real_death_df = pd.read_csv('../data/overall_cases.csv')\n",
    "real_death_df['day'] = pd.to_datetime(real_death_df['day'])\n",
    "real_death_df = real_death_df.loc[:, ['day', 'death']]\n",
    "\n",
    "df = pd.merge(imperial_df, real_death_df, on='day', how='inner')\n",
    "\n",
    "df"
   ]
  },
  {
   "cell_type": "code",
   "execution_count": 69,
   "metadata": {},
   "outputs": [],
   "source": [
    "err_pct = np.mean(np.divide(np.abs(np.subtract(df['death'].values, df['estimated_deaths_mean_cumulative'])), df['death'].values)) * 100"
   ]
  },
  {
   "cell_type": "code",
   "execution_count": 70,
   "metadata": {},
   "outputs": [
    {
     "data": {
      "text/plain": [
       "40.09824640247589"
      ]
     },
     "execution_count": 70,
     "metadata": {},
     "output_type": "execute_result"
    }
   ],
   "source": [
    "err_pct"
   ]
  },
  {
   "cell_type": "code",
   "execution_count": 65,
   "metadata": {},
   "outputs": [],
   "source": [
    "repartition_df = pd.read_csv('../data/state_repartition_demography.csv')\n",
    "repartition_df['day'] = pd.to_datetime(repartition_df['day'])"
   ]
  },
  {
   "cell_type": "code",
   "execution_count": 67,
   "metadata": {},
   "outputs": [
    {
     "data": {
      "text/plain": [
       "4360"
      ]
     },
     "execution_count": 67,
     "metadata": {},
     "output_type": "execute_result"
    }
   ],
   "source": [
    "day = datetime(2020, 3, 19)\n",
    "\n",
    "repartition_df.loc[repartition_df['day'] == day]['hosp'].sum()"
   ]
  },
  {
   "cell_type": "code",
   "execution_count": null,
   "metadata": {},
   "outputs": [],
   "source": []
  }
 ],
 "metadata": {
  "kernelspec": {
   "display_name": "Python 3",
   "language": "python",
   "name": "python3"
  },
  "language_info": {
   "codemirror_mode": {
    "name": "ipython",
    "version": 3
   },
   "file_extension": ".py",
   "mimetype": "text/x-python",
   "name": "python",
   "nbconvert_exporter": "python",
   "pygments_lexer": "ipython3",
   "version": "3.6.9"
  }
 },
 "nbformat": 4,
 "nbformat_minor": 2
}
