{
 "cells": [
  {
   "cell_type": "markdown",
   "metadata": {},
   "source": [
    "# Toy Simulation of CAST model\n",
    "\n",
    "The goal of this notebook os to illustrate how to implement a *CAST* model in the case of a disease propagation (epidemic). Some of the parameters here come from the situation in France. See the [README](README.md) for more details about the *CAST* model."
   ]
  },
  {
   "cell_type": "code",
   "execution_count": 1,
   "metadata": {},
   "outputs": [],
   "source": [
    "from numpy import array, around, ones, concatenate, where, linspace, zeros, frombuffer\n",
    "from numpy.random import choice, beta, uniform\n",
    "from pprint import pprint\n",
    "from time import time\n",
    "from matplotlib import rcParams\n",
    "import matplotlib.pyplot as plt\n",
    "from matplotlib.pyplot import cm\n",
    "from itertools import product\n",
    "import seaborn as sns\n",
    "import os, imageio, sys\n",
    "from IPython.display import HTML\n",
    "\n",
    "sys.path.append('../propagsim')\n",
    "from classes import State, Agent, Cell, Transitions, Map\n",
    "\n",
    "# If doesn't exist, create path to store images\n",
    "img_path = os.path.join('..', 'img')\n",
    "if not os.path.exists(img_path):\n",
    "    os.makedirs(img_path)"
   ]
  },
  {
   "cell_type": "markdown",
   "metadata": {},
   "source": [
    "## States \n",
    "### Attributes\n",
    "Each state has three *attributes*, all taking value between 0 and 1:\n",
    "\n",
    "1. *contagiousity*: influences (linearly) the probability that an agent in this state infects other agents in the same cell\n",
    "2. *sensitivity*: influences (linearly) the probability for an agent in this state gets infected from a sick agent in the same cell\n",
    "3. *severity*: influences (inverse linearly) the probability that an agent in this state will move to another cell\n",
    "\n",
    "### Definitions\n",
    "We define seven states:\n",
    "\n",
    "1. *healthy*: not contagious but very sensitive\n",
    "2. *asymptomatic*: contagious but insensitive (since already infected), very low severity\n",
    "3. *mild*: same as asymptomatic, but with higher severity\n",
    "4. *hospital*: agent in the hospital. Same as mild and symptomatic, but with highest severity (can't move)\n",
    "5. *reanimation*: same attribute values that *hospital*\n",
    "6. *dead*: sensitivity and contagiousity are 0, severity is maximal (1, can't move)\n",
    "7. *recovered*: same as *healthy* but not sensitive (considered completely immune as an approximation)"
   ]
  },
  {
   "cell_type": "code",
   "execution_count": 2,
   "metadata": {},
   "outputs": [],
   "source": [
    "state0 = State(id=0, name='healthy', contagiousity=0, sensitivity=1, severity=0)\n",
    "state1 = State(id=1, name='asymptomatic', contagiousity=.05, sensitivity=0, severity=0.1)\n",
    "state2 = State(id=2, name='mild', contagiousity=.15, sensitivity=0, severity=0.8)\n",
    "state3 = State(id=3, name='hospital', contagiousity=.1, sensitivity=0, severity=1)\n",
    "state4 = State(id=4, name='reanimation', contagiousity=.05, sensitivity=0, severity=1)\n",
    "state5 = State(id=5, name='dead', contagiousity=0, sensitivity=0, severity=1)\n",
    "state6 = State(id=6, name='recovered', contagiousity=0, sensitivity=0, severity=0)\n",
    "\n",
    "states = [state0, state1, state2, state3, state4, state5, state6]\n",
    "id2state = {state.get_id(): state.get_name() for state in states}"
   ]
  },
  {
   "cell_type": "markdown",
   "metadata": {},
   "source": [
    "### Transitions\n",
    "The *transition*s describe the probability of transitioning by itself from one state to another, without considering cases of infection. As we have 7 *state*s, each transition is a 7x7 matrix. The element $(i, j)$ of such a matrix attached to an agent is the probability for this agent to transition forom state $i$ to state $j$. For example $(3, 7)$ is the probability to transition from *mild* to *recovered*.\n",
    "\n",
    "Each *agent* can have its own transition matrix, but here to simplify we define just a few correspondig to various categories of population:"
   ]
  },
  {
   "cell_type": "code",
   "execution_count": 3,
   "metadata": {},
   "outputs": [],
   "source": [
    "# For people younger than 15yo\n",
    "transitions_15 = Transitions(0, array([[1, 0, 0, 0, 0, 0, 0], \n",
    "                                     [0, 0, 0.5, 0, 0, 0, 0.5], \n",
    "                                     [0, 0, 0, 0.3, 0, 0, 0.7],\n",
    "                                     [0, 0, 0, 0, 0.3, 0, 0.7],\n",
    "                                     [0, 0, 0, 0, 0, 0.5, 0.5],\n",
    "                                     [0, 0, 0, 0, 0, 1, 0],\n",
    "                                     [0, 0, 0, 0, 0, 0, 1]]))\n",
    "\n",
    "# For people younger between 15 and 44yo\n",
    "transitions_15_44 = Transitions(1, array([[1, 0, 0, 0, 0, 0, 0], \n",
    "                                         [0, 0, 0.5, 0, 0, 0, 0.5], \n",
    "                                         [0, 0, 0, 0.3, 0, 0, 0.7],\n",
    "                                         [0, 0, 0, 0, 0.3, 0, 0.7],\n",
    "                                         [0, 0, 0, 0, 0, 0.5, 0.5],\n",
    "                                         [0, 0, 0, 0, 0, 1, 0],\n",
    "                                         [0, 0, 0, 0, 0, 0, 1]]))\n",
    "\n",
    "# For people younger between 45 and 64yo\n",
    "transitions_45_64 = Transitions(2, array([[1, 0, 0, 0, 0, 0, 0], \n",
    "                                         [0, 0, 0.5, 0, 0, 0, 0.5], \n",
    "                                         [0, 0, 0, 0.3, 0, 0, 0.7],\n",
    "                                         [0, 0, 0, 0, 0.3, 0, 0.7],\n",
    "                                         [0, 0, 0, 0, 0, 0.5, 0.5],\n",
    "                                         [0, 0, 0, 0, 0, 1, 0],\n",
    "                                         [0, 0, 0, 0, 0, 0, 1]]))\n",
    "\n",
    "# For people younger between 65 and 75yo\n",
    "transitions_65_74 = Transitions(3, array([[1, 0, 0, 0, 0, 0, 0], \n",
    "                                         [0, 0, 0.5, 0, 0, 0, 0.5], \n",
    "                                         [0, 0, 0, 0.3, 0, 0, 0.7],\n",
    "                                         [0, 0, 0, 0, 0.3, 0, 0.7],\n",
    "                                         [0, 0, 0, 0, 0, 0.5, 0.5],\n",
    "                                         [0, 0, 0, 0, 0, 1, 0],\n",
    "                                         [0, 0, 0, 0, 0, 0, 1]]))\n",
    "\n",
    "# For people younger >= 75yo\n",
    "transitions_75 = Transitions(4, array([[1, 0, 0, 0, 0, 0, 0], \n",
    "                                     [0, 0, 0.5, 0, 0, 0, 0.5], \n",
    "                                     [0, 0, 0, 0.3, 0, 0, 0.7],\n",
    "                                     [0, 0, 0, 0, 0.3, 0, 0.7],\n",
    "                                     [0, 0, 0, 0, 0, 0.5, 0.5],\n",
    "                                     [0, 0, 0, 0, 0, 1, 0],\n",
    "                                     [0, 0, 0, 0, 0, 0, 1]]))\n",
    "\n",
    "transitions = [transitions_15, transitions_15_44, transitions_45_64, transitions_65_74, transitions_75]"
   ]
  },
  {
   "cell_type": "code",
   "execution_count": 4,
   "metadata": {},
   "outputs": [],
   "source": [
    "# TODO: check statistics to get more realistic transition matrices"
   ]
  },
  {
   "cell_type": "markdown",
   "metadata": {},
   "source": [
    "## Agents\n",
    "We create 1000 *agent*s in this simulation.\n",
    "\n",
    "`prop_population` define the proportion of the French population in the age classes defined for the transitions, approximated from the [French population pyramid](http://perspective.usherbrooke.ca/bilan/servlet/BMPagePyramide?codePays=FRA&annee=2018) in 2018.\n",
    "\n",
    "The age class of each *agent* is drawn randomly according to those proportions, and its transition matrix corresponds to its drawn age class.\n",
    "\n",
    "*Remark:* This simulation could be refined by defining more granular demographics (by genders, health history etc.) and corresponding transitions."
   ]
  },
  {
   "cell_type": "code",
   "execution_count": 5,
   "metadata": {},
   "outputs": [],
   "source": [
    "N_AGENTS = 10000"
   ]
  },
  {
   "cell_type": "code",
   "execution_count": 6,
   "metadata": {},
   "outputs": [],
   "source": [
    "prop_population = [.17, .35, .3, .1, .08]\n",
    "draw_transitions = choice(range(len(transitions)), N_AGENTS, p=prop_population)"
   ]
  },
  {
   "cell_type": "markdown",
   "metadata": {},
   "source": [
    "Each *agent* has durations corresponding to each state it can take. For each *agent* we draw them according to a [beta distribution](https://en.wikipedia.org/wiki/Beta_distribution) with min, max and mean value corresponding approximatively to available statistics:"
   ]
  },
  {
   "cell_type": "code",
   "execution_count": 7,
   "metadata": {},
   "outputs": [],
   "source": [
    "def get_alpha_beta(min_value, max_value, mean_value):\n",
    "    \"\"\" for the duration on a state, draw from a beta distribution with parameter alpha and beta \"\"\"\n",
    "    x = (mean_value - min_value) / (max_value - min_value)\n",
    "    z = 1 / x - 1\n",
    "    a, b = 2, 2 * z\n",
    "    return a, b\n",
    "\n",
    "\n",
    "def draw_beta(min_value, max_value, mean_value, n_values, round=False):\n",
    "    \"\"\" draw `n_values` values between `min_value` and `max_value` having \n",
    "    `mean_value` as (asymptotical) average\"\"\"\n",
    "    a, b = get_alpha_beta(min_value, max_value, mean_value)\n",
    "    durations = beta(a, b, n_values) * (max_value - min_value) + min_value\n",
    "    if round:\n",
    "        durations = around(durations)\n",
    "    return durations.reshape(-1, 1)"
   ]
  },
  {
   "cell_type": "code",
   "execution_count": 8,
   "metadata": {},
   "outputs": [
    {
     "name": "stdout",
     "output_type": "stream",
     "text": [
      "durations.shape: (10000, 7), OK? True\n"
     ]
    }
   ],
   "source": [
    "durations_healthy = durations_dead = durations_recovered = ones(shape=(N_AGENTS, 1)) * -1\n",
    "durations_asymptomatic = draw_beta(1, 14, 5, N_AGENTS, True)\n",
    "durations_mild = draw_beta(5, 10, 7, N_AGENTS, True)\n",
    "durations_hospital = draw_beta(1, 8, 4, N_AGENTS, True)\n",
    "durations_reanimation = draw_beta(15, 30, 21, N_AGENTS, True)\n",
    "\n",
    "durations = [durations_healthy, durations_asymptomatic, durations_mild, \n",
    "             durations_hospital, durations_reanimation, durations_dead, durations_recovered]\n",
    "\n",
    "durations = concatenate(durations, axis=1)\n",
    "\n",
    "# Check if the shape of `durations` is OK\n",
    "shape_durations_ok = (durations.shape == (N_AGENTS, len(states)))\n",
    "print(f'durations.shape: {durations.shape}, OK? {shape_durations_ok}')"
   ]
  },
  {
   "cell_type": "markdown",
   "metadata": {},
   "source": [
    "The parameter `p_move` representing the probability for an *agent* to be selected (if healthy) for a movement is drawn uniformly randomly, without consideration for the age or whatever of the *agent* (*Remark*: that could be also a possibility of refinement):"
   ]
  },
  {
   "cell_type": "code",
   "execution_count": 9,
   "metadata": {},
   "outputs": [],
   "source": [
    "p_moves = draw_beta(0, 1, .5, N_AGENTS)"
   ]
  },
  {
   "cell_type": "code",
   "execution_count": 10,
   "metadata": {},
   "outputs": [
    {
     "data": {
      "text/plain": [
       "array([[0.95214569],\n",
       "       [0.35861313],\n",
       "       [0.81406693],\n",
       "       ...,\n",
       "       [0.1566815 ],\n",
       "       [0.44158689],\n",
       "       [0.76822653]])"
      ]
     },
     "execution_count": 10,
     "metadata": {},
     "output_type": "execute_result"
    }
   ],
   "source": [
    "p_moves"
   ]
  },
  {
   "cell_type": "markdown",
   "metadata": {},
   "source": [
    "In France there are in average 2.2 people living per home. So we consider the first $N\\_AGENTS / 2.2$ *cell*s to be home *cell*s, and dispatch those home *cell*s randomly among the *agent*s:"
   ]
  },
  {
   "cell_type": "code",
   "execution_count": 11,
   "metadata": {},
   "outputs": [],
   "source": [
    "AVG_AGENTS_HOME = 2.2\n",
    "\n",
    "n_home_cells = int(N_AGENTS / AVG_AGENTS_HOME)\n",
    "draw_home_cells = choice(range(n_home_cells), N_AGENTS)"
   ]
  },
  {
   "cell_type": "markdown",
   "metadata": {},
   "source": [
    "And now we create the *agent*s according to those parameters:"
   ]
  },
  {
   "cell_type": "code",
   "execution_count": 12,
   "metadata": {},
   "outputs": [],
   "source": [
    "agents = []\n",
    "for i in range(N_AGENTS):\n",
    "    agent = Agent(id=i, p_move=p_moves[i], \n",
    "                  transitions=transitions[draw_transitions[i]], \n",
    "                  states=states, \n",
    "                  durations=durations[i,:].flatten(), \n",
    "                  current_state=state0, \n",
    "                  home_cell_id=draw_home_cells[i])\n",
    "    agents.append(agent)"
   ]
  },
  {
   "cell_type": "markdown",
   "metadata": {},
   "source": [
    "## Cells\n",
    "Here we consider 500 cells, randomly uniformly distributed on a 100x100 surface:"
   ]
  },
  {
   "cell_type": "code",
   "execution_count": 13,
   "metadata": {},
   "outputs": [],
   "source": [
    "N_CELLS = int(1.1 * n_home_cells)"
   ]
  },
  {
   "cell_type": "code",
   "execution_count": 14,
   "metadata": {},
   "outputs": [],
   "source": [
    "positions_x = uniform(low=0, high=10, size=N_CELLS).reshape(-1, 1)\n",
    "positions_y = uniform(low=0, high=10, size=N_CELLS).reshape(-1, 1)\n",
    "\n",
    "positions = concatenate([positions_x, positions_y], axis=1)"
   ]
  },
  {
   "cell_type": "markdown",
   "metadata": {},
   "source": [
    "Their attractivity is randomly uniformly distributed between 0 and 1, besides home *cell*s, that have a fixed attractivity of 0.1. The idea behind it is that home *cell*s are not very attractive for agents for which it's not the home *cell*."
   ]
  },
  {
   "cell_type": "code",
   "execution_count": 15,
   "metadata": {},
   "outputs": [],
   "source": [
    "attractivities = uniform(size=N_CELLS)\n",
    "attractivities[:n_home_cells] = 0"
   ]
  },
  {
   "cell_type": "markdown",
   "metadata": {},
   "source": [
    "Their unsafety is randomly uniformly distributed between 0 and 1, besides home *cell*s, that have a fixed unsafety of 1. The idea behind it is that home *cell*s are are very unsafe (no social distancing at home)."
   ]
  },
  {
   "cell_type": "code",
   "execution_count": 16,
   "metadata": {},
   "outputs": [],
   "source": [
    "unsafeties = uniform(size=N_CELLS)\n",
    "unsafeties[:n_home_cells] = 1"
   ]
  },
  {
   "cell_type": "markdown",
   "metadata": {},
   "source": [
    "Now we create the *cell*s with those parameters:"
   ]
  },
  {
   "cell_type": "code",
   "execution_count": 17,
   "metadata": {},
   "outputs": [],
   "source": [
    "    cells = []\n",
    "    for i in range(N_CELLS):\n",
    "        cell = Cell(id=i, \n",
    "                    position=positions[i,:].flatten(), \n",
    "                    attractivity=attractivities[i], \n",
    "                    unsafety=unsafeties[i])\n",
    "        cells.append(cell)"
   ]
  },
  {
   "cell_type": "markdown",
   "metadata": {},
   "source": [
    "## Map\n",
    "Now we create a *map* containing the *agent*s and *cell*s created above:"
   ]
  },
  {
   "cell_type": "code",
   "execution_count": 18,
   "metadata": {},
   "outputs": [],
   "source": [
    "map = Map(cells, agents, states, verbose=2)"
   ]
  },
  {
   "cell_type": "markdown",
   "metadata": {},
   "source": [
    "## Simulation\n",
    "Now that the context is set up, we can run simulations.\n",
    "\n",
    "### Number of agents in each state through time\n",
    "Here we first chose an agent at random in the map getting infected. Then the agents on the map move, get infected, their state evolve. At each time period we count the number of agents in each state, and finally plot this evolution.\n",
    "\n",
    "First we chose one agent at random that gets infected:"
   ]
  },
  {
   "cell_type": "code",
   "execution_count": 19,
   "metadata": {},
   "outputs": [],
   "source": [
    "infected_agent_id = choice(range(N_AGENTS))\n",
    "new_state_id = 1\n",
    "\n",
    "map.change_state_agents(array([infected_agent_id]), array([new_state_id]))"
   ]
  },
  {
   "cell_type": "markdown",
   "metadata": {},
   "source": [
    "Then we run a simulation over 60 time periods (days) having each 3 move rounds. For each time period, we print the repartition of the population among the states, and the *R* factor:"
   ]
  },
  {
   "cell_type": "code",
   "execution_count": 20,
   "metadata": {},
   "outputs": [
    {
     "name": "stdout",
     "output_type": "stream",
     "text": [
      "DEBUG: agents_durations.shape: (10000,)\n",
      "DEBUG: self.current_state_durations.shape: (10000,)\n",
      "CHECK: agent_ids_transit:\n",
      "[]\n",
      "DEBUG: agents_durations.shape: (10000,)\n",
      "DEBUG: self.current_state_durations.shape: (10000,)\n",
      "CHECK: agent_ids_transit:\n",
      "[]\n",
      "DEBUG: agents_durations.shape: (10000,)\n",
      "DEBUG: self.current_state_durations.shape: (10000,)\n",
      "CHECK: agent_ids_transit:\n",
      "[]\n",
      "DEBUG: agents_durations.shape: (10000,)\n",
      "DEBUG: self.current_state_durations.shape: (10000,)\n",
      "CHECK: agent_ids_transit:\n",
      "[]\n",
      "DEBUG: agents_durations.shape: (10000,)\n",
      "DEBUG: self.current_state_durations.shape: (10000,)\n",
      "CHECK: agent_ids_transit:\n",
      "[]\n",
      "DEBUG: agents_durations.shape: (10000,)\n",
      "DEBUG: self.current_state_durations.shape: (10000,)\n",
      "CHECK: agent_ids_transit:\n",
      "[]\n",
      "DEBUG: agents_durations.shape: (10000,)\n",
      "DEBUG: self.current_state_durations.shape: (10000,)\n",
      "CHECK: agent_ids_transit:\n",
      "[]\n",
      "DEBUG: agents_durations.shape: (10000,)\n",
      "DEBUG: self.current_state_durations.shape: (10000,)\n",
      "CHECK: agent_ids_transit:\n",
      "[]\n",
      "DEBUG: agents_durations.shape: (10000,)\n",
      "DEBUG: self.current_state_durations.shape: (10000,)\n",
      "CHECK: agent_ids_transit:\n",
      "[]\n",
      "DEBUG: agents_durations.shape: (10000,)\n",
      "DEBUG: self.current_state_durations.shape: (10000,)\n",
      "CHECK: agent_ids_transit:\n",
      "[]\n",
      "DEBUG: agents_durations.shape: (10000,)\n",
      "DEBUG: self.current_state_durations.shape: (10000,)\n",
      "CHECK: agent_ids_transit:\n",
      "[2556.]\n",
      "DEBUG: agents_durations.shape: (10000,)\n",
      "DEBUG: self.current_state_durations.shape: (10000,)\n",
      "CHECK: agent_ids_transit:\n",
      "[]\n",
      "DEBUG: agents_durations.shape: (10000,)\n",
      "DEBUG: self.current_state_durations.shape: (10000,)\n",
      "CHECK: agent_ids_transit:\n",
      "[]\n",
      "DEBUG: agents_durations.shape: (10000,)\n",
      "DEBUG: self.current_state_durations.shape: (10000,)\n",
      "CHECK: agent_ids_transit:\n",
      "[]\n",
      "DEBUG: agents_durations.shape: (10000,)\n",
      "DEBUG: self.current_state_durations.shape: (10000,)\n",
      "CHECK: agent_ids_transit:\n",
      "[]\n",
      "DEBUG: agents_durations.shape: (10000,)\n",
      "DEBUG: self.current_state_durations.shape: (10000,)\n",
      "CHECK: agent_ids_transit:\n",
      "[]\n",
      "DEBUG: agents_durations.shape: (10000,)\n",
      "DEBUG: self.current_state_durations.shape: (10000,)\n",
      "CHECK: agent_ids_transit:\n",
      "[]\n",
      "DEBUG: agents_durations.shape: (10000,)\n",
      "DEBUG: self.current_state_durations.shape: (10000,)\n",
      "CHECK: agent_ids_transit:\n",
      "[]\n",
      "DEBUG: agents_durations.shape: (10000,)\n",
      "DEBUG: self.current_state_durations.shape: (10000,)\n",
      "CHECK: agent_ids_transit:\n",
      "[]\n",
      "DEBUG: agents_durations.shape: (10000,)\n",
      "DEBUG: self.current_state_durations.shape: (10000,)\n",
      "CHECK: agent_ids_transit:\n",
      "[2556.]\n",
      "DEBUG: agents_durations.shape: (10000,)\n",
      "DEBUG: self.current_state_durations.shape: (10000,)\n",
      "CHECK: agent_ids_transit:\n",
      "[]\n",
      "DEBUG: agents_durations.shape: (10000,)\n",
      "DEBUG: self.current_state_durations.shape: (10000,)\n",
      "CHECK: agent_ids_transit:\n",
      "[]\n",
      "DEBUG: agents_durations.shape: (10000,)\n",
      "DEBUG: self.current_state_durations.shape: (10000,)\n",
      "CHECK: agent_ids_transit:\n",
      "[]\n",
      "DEBUG: agents_durations.shape: (10000,)\n",
      "DEBUG: self.current_state_durations.shape: (10000,)\n",
      "CHECK: agent_ids_transit:\n",
      "[]\n",
      "DEBUG: agents_durations.shape: (10000,)\n",
      "DEBUG: self.current_state_durations.shape: (10000,)\n",
      "CHECK: agent_ids_transit:\n",
      "[]\n",
      "DEBUG: agents_durations.shape: (10000,)\n",
      "DEBUG: self.current_state_durations.shape: (10000,)\n",
      "CHECK: agent_ids_transit:\n",
      "[]\n",
      "DEBUG: agents_durations.shape: (10000,)\n",
      "DEBUG: self.current_state_durations.shape: (10000,)\n",
      "CHECK: agent_ids_transit:\n",
      "[]\n",
      "DEBUG: agents_durations.shape: (10000,)\n",
      "DEBUG: self.current_state_durations.shape: (10000,)\n",
      "CHECK: agent_ids_transit:\n",
      "[]\n",
      "DEBUG: agents_durations.shape: (10000,)\n",
      "DEBUG: self.current_state_durations.shape: (10000,)\n",
      "CHECK: agent_ids_transit:\n",
      "[]\n",
      "DEBUG: agents_durations.shape: (10000,)\n",
      "DEBUG: self.current_state_durations.shape: (10000,)\n",
      "CHECK: agent_ids_transit:\n",
      "[]\n",
      "DEBUG: agents_durations.shape: (10000,)\n",
      "DEBUG: self.current_state_durations.shape: (10000,)\n",
      "CHECK: agent_ids_transit:\n",
      "[]\n",
      "DEBUG: agents_durations.shape: (10000,)\n",
      "DEBUG: self.current_state_durations.shape: (10000,)\n",
      "CHECK: agent_ids_transit:\n",
      "[]\n",
      "DEBUG: agents_durations.shape: (10000,)\n",
      "DEBUG: self.current_state_durations.shape: (10000,)\n",
      "CHECK: agent_ids_transit:\n",
      "[]\n",
      "DEBUG: agents_durations.shape: (10000,)\n",
      "DEBUG: self.current_state_durations.shape: (10000,)\n",
      "CHECK: agent_ids_transit:\n",
      "[]\n",
      "DEBUG: agents_durations.shape: (10000,)\n",
      "DEBUG: self.current_state_durations.shape: (10000,)\n",
      "CHECK: agent_ids_transit:\n",
      "[]\n",
      "DEBUG: agents_durations.shape: (10000,)\n",
      "DEBUG: self.current_state_durations.shape: (10000,)\n",
      "CHECK: agent_ids_transit:\n",
      "[]\n",
      "DEBUG: agents_durations.shape: (10000,)\n",
      "DEBUG: self.current_state_durations.shape: (10000,)\n",
      "CHECK: agent_ids_transit:\n",
      "[]\n",
      "DEBUG: agents_durations.shape: (10000,)\n",
      "DEBUG: self.current_state_durations.shape: (10000,)\n",
      "CHECK: agent_ids_transit:\n",
      "[]\n",
      "DEBUG: agents_durations.shape: (10000,)\n",
      "DEBUG: self.current_state_durations.shape: (10000,)\n",
      "CHECK: agent_ids_transit:\n",
      "[]\n",
      "DEBUG: agents_durations.shape: (10000,)\n",
      "DEBUG: self.current_state_durations.shape: (10000,)\n",
      "CHECK: agent_ids_transit:\n",
      "[]\n",
      "DEBUG: agents_durations.shape: (10000,)\n",
      "DEBUG: self.current_state_durations.shape: (10000,)\n",
      "CHECK: agent_ids_transit:\n",
      "[]\n",
      "DEBUG: agents_durations.shape: (10000,)\n",
      "DEBUG: self.current_state_durations.shape: (10000,)\n",
      "CHECK: agent_ids_transit:\n",
      "[]\n",
      "DEBUG: agents_durations.shape: (10000,)\n",
      "DEBUG: self.current_state_durations.shape: (10000,)\n",
      "CHECK: agent_ids_transit:\n",
      "[]\n",
      "DEBUG: agents_durations.shape: (10000,)\n",
      "DEBUG: self.current_state_durations.shape: (10000,)\n",
      "CHECK: agent_ids_transit:\n",
      "[]\n",
      "DEBUG: agents_durations.shape: (10000,)\n",
      "DEBUG: self.current_state_durations.shape: (10000,)\n",
      "CHECK: agent_ids_transit:\n",
      "[]\n",
      "DEBUG: agents_durations.shape: (10000,)\n",
      "DEBUG: self.current_state_durations.shape: (10000,)\n",
      "CHECK: agent_ids_transit:\n",
      "[]\n",
      "DEBUG: agents_durations.shape: (10000,)\n",
      "DEBUG: self.current_state_durations.shape: (10000,)\n",
      "CHECK: agent_ids_transit:\n",
      "[]\n",
      "DEBUG: agents_durations.shape: (10000,)\n",
      "DEBUG: self.current_state_durations.shape: (10000,)\n",
      "CHECK: agent_ids_transit:\n",
      "[]\n",
      "DEBUG: agents_durations.shape: (10000,)\n",
      "DEBUG: self.current_state_durations.shape: (10000,)\n",
      "CHECK: agent_ids_transit:\n",
      "[]\n",
      "DEBUG: agents_durations.shape: (10000,)\n",
      "DEBUG: self.current_state_durations.shape: (10000,)\n",
      "CHECK: agent_ids_transit:\n",
      "[]\n",
      "DEBUG: agents_durations.shape: (10000,)\n",
      "DEBUG: self.current_state_durations.shape: (10000,)\n",
      "CHECK: agent_ids_transit:\n",
      "[]\n",
      "DEBUG: agents_durations.shape: (10000,)\n",
      "DEBUG: self.current_state_durations.shape: (10000,)\n",
      "CHECK: agent_ids_transit:\n",
      "[]\n",
      "DEBUG: agents_durations.shape: (10000,)\n",
      "DEBUG: self.current_state_durations.shape: (10000,)\n",
      "CHECK: agent_ids_transit:\n",
      "[]\n",
      "DEBUG: agents_durations.shape: (10000,)\n",
      "DEBUG: self.current_state_durations.shape: (10000,)\n",
      "CHECK: agent_ids_transit:\n",
      "[]\n",
      "DEBUG: agents_durations.shape: (10000,)\n",
      "DEBUG: self.current_state_durations.shape: (10000,)\n",
      "CHECK: agent_ids_transit:\n",
      "[]\n",
      "DEBUG: agents_durations.shape: (10000,)\n",
      "DEBUG: self.current_state_durations.shape: (10000,)\n",
      "CHECK: agent_ids_transit:\n",
      "[]\n",
      "DEBUG: agents_durations.shape: (10000,)\n",
      "DEBUG: self.current_state_durations.shape: (10000,)\n",
      "CHECK: agent_ids_transit:\n",
      "[]\n",
      "DEBUG: agents_durations.shape: (10000,)\n",
      "DEBUG: self.current_state_durations.shape: (10000,)\n",
      "CHECK: agent_ids_transit:\n",
      "[]\n",
      "DEBUG: agents_durations.shape: (10000,)\n",
      "DEBUG: self.current_state_durations.shape: (10000,)\n",
      "CHECK: agent_ids_transit:\n",
      "[]\n",
      "DEBUG: agents_durations.shape: (10000,)\n",
      "DEBUG: self.current_state_durations.shape: (10000,)\n",
      "CHECK: agent_ids_transit:\n",
      "[]\n",
      "all 60 periods computed in 6.407s\n"
     ]
    }
   ],
   "source": [
    "N_PERIODS = 60\n",
    "N_MOVES_PER_PERIOD = 10\n",
    "\n",
    "r_s = []\n",
    "periods_states = {}\n",
    "t_start = time()\n",
    "for i in range(N_PERIODS):\n",
    "    for j in range(N_MOVES_PER_PERIOD):\n",
    "        map.make_move()\n",
    "    map.forward_all_cells()\n",
    "    states_ids, state_numbers = map.get_states_numbers()\n",
    "    states_repartition = {states_ids[i]: state_numbers[i] for i in range(len(states_ids))}\n",
    "    period_state = {'repartition': states_repartition}\n",
    "    periods_states[i] = period_state\n",
    "    \n",
    "    \n",
    "print(f'all {N_PERIODS} periods computed in {round(time() - t_start, 3)}s')\n",
    "    "
   ]
  },
  {
   "cell_type": "code",
   "execution_count": 21,
   "metadata": {},
   "outputs": [
    {
     "data": {
      "text/plain": [
       "{0: {'repartition': {0: 9999, 1: 1}},\n",
       " 1: {'repartition': {0: 9999, 1: 1}},\n",
       " 2: {'repartition': {0: 9999, 1: 1}},\n",
       " 3: {'repartition': {0: 9999, 1: 1}},\n",
       " 4: {'repartition': {0: 9999, 1: 1}},\n",
       " 5: {'repartition': {0: 9999, 1: 1}},\n",
       " 6: {'repartition': {0: 9999, 1: 1}},\n",
       " 7: {'repartition': {0: 9999, 1: 1}},\n",
       " 8: {'repartition': {0: 9999, 1: 1}},\n",
       " 9: {'repartition': {0: 9999, 1: 1}},\n",
       " 10: {'repartition': {0: 9999, 2: 1}},\n",
       " 11: {'repartition': {0: 9999, 2: 1}},\n",
       " 12: {'repartition': {0: 9999, 2: 1}},\n",
       " 13: {'repartition': {0: 9999, 2: 1}},\n",
       " 14: {'repartition': {0: 9999, 2: 1}},\n",
       " 15: {'repartition': {0: 9999, 2: 1}},\n",
       " 16: {'repartition': {0: 9999, 2: 1}},\n",
       " 17: {'repartition': {0: 9999, 2: 1}},\n",
       " 18: {'repartition': {0: 9999, 2: 1}},\n",
       " 19: {'repartition': {0: 9999, 6: 1}},\n",
       " 20: {'repartition': {0: 9999, 6: 1}},\n",
       " 21: {'repartition': {0: 9999, 6: 1}},\n",
       " 22: {'repartition': {0: 9999, 6: 1}},\n",
       " 23: {'repartition': {0: 9999, 6: 1}},\n",
       " 24: {'repartition': {0: 9999, 6: 1}},\n",
       " 25: {'repartition': {0: 9999, 6: 1}},\n",
       " 26: {'repartition': {0: 9999, 6: 1}},\n",
       " 27: {'repartition': {0: 9999, 6: 1}},\n",
       " 28: {'repartition': {0: 9999, 6: 1}},\n",
       " 29: {'repartition': {0: 9999, 6: 1}},\n",
       " 30: {'repartition': {0: 9999, 6: 1}},\n",
       " 31: {'repartition': {0: 9999, 6: 1}},\n",
       " 32: {'repartition': {0: 9999, 6: 1}},\n",
       " 33: {'repartition': {0: 9999, 6: 1}},\n",
       " 34: {'repartition': {0: 9999, 6: 1}},\n",
       " 35: {'repartition': {0: 9999, 6: 1}},\n",
       " 36: {'repartition': {0: 9999, 6: 1}},\n",
       " 37: {'repartition': {0: 9999, 6: 1}},\n",
       " 38: {'repartition': {0: 9999, 6: 1}},\n",
       " 39: {'repartition': {0: 9999, 6: 1}},\n",
       " 40: {'repartition': {0: 9999, 6: 1}},\n",
       " 41: {'repartition': {0: 9999, 6: 1}},\n",
       " 42: {'repartition': {0: 9999, 6: 1}},\n",
       " 43: {'repartition': {0: 9999, 6: 1}},\n",
       " 44: {'repartition': {0: 9999, 6: 1}},\n",
       " 45: {'repartition': {0: 9999, 6: 1}},\n",
       " 46: {'repartition': {0: 9999, 6: 1}},\n",
       " 47: {'repartition': {0: 9999, 6: 1}},\n",
       " 48: {'repartition': {0: 9999, 6: 1}},\n",
       " 49: {'repartition': {0: 9999, 6: 1}},\n",
       " 50: {'repartition': {0: 9999, 6: 1}},\n",
       " 51: {'repartition': {0: 9999, 6: 1}},\n",
       " 52: {'repartition': {0: 9999, 6: 1}},\n",
       " 53: {'repartition': {0: 9999, 6: 1}},\n",
       " 54: {'repartition': {0: 9999, 6: 1}},\n",
       " 55: {'repartition': {0: 9999, 6: 1}},\n",
       " 56: {'repartition': {0: 9999, 6: 1}},\n",
       " 57: {'repartition': {0: 9999, 6: 1}},\n",
       " 58: {'repartition': {0: 9999, 6: 1}},\n",
       " 59: {'repartition': {0: 9999, 6: 1}}}"
      ]
     },
     "execution_count": 21,
     "metadata": {},
     "output_type": "execute_result"
    }
   ],
   "source": [
    "periods_states"
   ]
  },
  {
   "cell_type": "markdown",
   "metadata": {},
   "source": [
    "**NB:** \n",
    "* The number of healthy people gets stable at 5 at the end, means the heard immunity is reached aftercalculation 99.5% of the population got infected. The set up and/or the parameters have to be modified to get a more realistic value of around 70%\n",
    "* The simulation runs quite fast, there is room to increase the population and the number of cells in the map\n",
    "\n",
    "Now we plot the data we obtained through the simulation, means the repartition of the population among states through time:"
   ]
  },
  {
   "cell_type": "code",
   "execution_count": 22,
   "metadata": {},
   "outputs": [
    {
     "ename": "TypeError",
     "evalue": "unsupported operand type(s) for +: 'int' and 'NoneType'",
     "output_type": "error",
     "traceback": [
      "\u001b[0;31m---------------------------------------------------------------------------\u001b[0m",
      "\u001b[0;31mTypeError\u001b[0m                                 Traceback (most recent call last)",
      "\u001b[0;32m<ipython-input-22-7ff1be5af395>\u001b[0m in \u001b[0;36m<module>\u001b[0;34m\u001b[0m\n\u001b[1;32m     22\u001b[0m \u001b[0mdelta\u001b[0m \u001b[0;34m=\u001b[0m \u001b[0;36m1\u001b[0m \u001b[0;34m/\u001b[0m \u001b[0mlen\u001b[0m\u001b[0;34m(\u001b[0m\u001b[0mstates_names\u001b[0m\u001b[0;34m)\u001b[0m\u001b[0;34m\u001b[0m\u001b[0;34m\u001b[0m\u001b[0m\n\u001b[1;32m     23\u001b[0m \u001b[0;32mfor\u001b[0m \u001b[0mi\u001b[0m\u001b[0;34m,\u001b[0m \u001b[0mstate_name\u001b[0m \u001b[0;32min\u001b[0m \u001b[0menumerate\u001b[0m\u001b[0;34m(\u001b[0m\u001b[0mstates_names\u001b[0m\u001b[0;34m)\u001b[0m\u001b[0;34m:\u001b[0m\u001b[0;34m\u001b[0m\u001b[0;34m\u001b[0m\u001b[0m\n\u001b[0;32m---> 24\u001b[0;31m     \u001b[0max\u001b[0m\u001b[0;34m.\u001b[0m\u001b[0mbar\u001b[0m\u001b[0;34m(\u001b[0m\u001b[0mX\u001b[0m \u001b[0;34m+\u001b[0m \u001b[0mi\u001b[0m \u001b[0;34m*\u001b[0m \u001b[0mdelta\u001b[0m\u001b[0;34m,\u001b[0m \u001b[0mvalues\u001b[0m\u001b[0;34m.\u001b[0m\u001b[0mget\u001b[0m\u001b[0;34m(\u001b[0m\u001b[0mstate_name\u001b[0m\u001b[0;34m)\u001b[0m\u001b[0;34m,\u001b[0m \u001b[0mcolor\u001b[0m\u001b[0;34m=\u001b[0m\u001b[0mcolors\u001b[0m\u001b[0;34m[\u001b[0m\u001b[0mi\u001b[0m\u001b[0;34m]\u001b[0m\u001b[0;34m,\u001b[0m \u001b[0mwidth\u001b[0m\u001b[0;34m=\u001b[0m\u001b[0mdelta\u001b[0m\u001b[0;34m,\u001b[0m \u001b[0mlabel\u001b[0m\u001b[0;34m=\u001b[0m\u001b[0mstate_name\u001b[0m\u001b[0;34m)\u001b[0m\u001b[0;34m\u001b[0m\u001b[0;34m\u001b[0m\u001b[0m\n\u001b[0m\u001b[1;32m     25\u001b[0m     \u001b[0max\u001b[0m\u001b[0;34m.\u001b[0m\u001b[0mplot\u001b[0m\u001b[0;34m(\u001b[0m\u001b[0mX\u001b[0m\u001b[0;34m,\u001b[0m \u001b[0mvalues\u001b[0m\u001b[0;34m.\u001b[0m\u001b[0mget\u001b[0m\u001b[0;34m(\u001b[0m\u001b[0mstate_name\u001b[0m\u001b[0;34m)\u001b[0m\u001b[0;34m,\u001b[0m \u001b[0mcolor\u001b[0m\u001b[0;34m=\u001b[0m\u001b[0mcolors\u001b[0m\u001b[0;34m[\u001b[0m\u001b[0mi\u001b[0m\u001b[0;34m]\u001b[0m\u001b[0;34m)\u001b[0m\u001b[0;34m\u001b[0m\u001b[0;34m\u001b[0m\u001b[0m\n\u001b[1;32m     26\u001b[0m \u001b[0;34m\u001b[0m\u001b[0m\n",
      "\u001b[0;32m/usr/local/lib/python3.6/dist-packages/matplotlib/__init__.py\u001b[0m in \u001b[0;36minner\u001b[0;34m(ax, data, *args, **kwargs)\u001b[0m\n\u001b[1;32m   1599\u001b[0m     \u001b[0;32mdef\u001b[0m \u001b[0minner\u001b[0m\u001b[0;34m(\u001b[0m\u001b[0max\u001b[0m\u001b[0;34m,\u001b[0m \u001b[0;34m*\u001b[0m\u001b[0margs\u001b[0m\u001b[0;34m,\u001b[0m \u001b[0mdata\u001b[0m\u001b[0;34m=\u001b[0m\u001b[0;32mNone\u001b[0m\u001b[0;34m,\u001b[0m \u001b[0;34m**\u001b[0m\u001b[0mkwargs\u001b[0m\u001b[0;34m)\u001b[0m\u001b[0;34m:\u001b[0m\u001b[0;34m\u001b[0m\u001b[0;34m\u001b[0m\u001b[0m\n\u001b[1;32m   1600\u001b[0m         \u001b[0;32mif\u001b[0m \u001b[0mdata\u001b[0m \u001b[0;32mis\u001b[0m \u001b[0;32mNone\u001b[0m\u001b[0;34m:\u001b[0m\u001b[0;34m\u001b[0m\u001b[0;34m\u001b[0m\u001b[0m\n\u001b[0;32m-> 1601\u001b[0;31m             \u001b[0;32mreturn\u001b[0m \u001b[0mfunc\u001b[0m\u001b[0;34m(\u001b[0m\u001b[0max\u001b[0m\u001b[0;34m,\u001b[0m \u001b[0;34m*\u001b[0m\u001b[0mmap\u001b[0m\u001b[0;34m(\u001b[0m\u001b[0msanitize_sequence\u001b[0m\u001b[0;34m,\u001b[0m \u001b[0margs\u001b[0m\u001b[0;34m)\u001b[0m\u001b[0;34m,\u001b[0m \u001b[0;34m**\u001b[0m\u001b[0mkwargs\u001b[0m\u001b[0;34m)\u001b[0m\u001b[0;34m\u001b[0m\u001b[0;34m\u001b[0m\u001b[0m\n\u001b[0m\u001b[1;32m   1602\u001b[0m \u001b[0;34m\u001b[0m\u001b[0m\n\u001b[1;32m   1603\u001b[0m         \u001b[0mbound\u001b[0m \u001b[0;34m=\u001b[0m \u001b[0mnew_sig\u001b[0m\u001b[0;34m.\u001b[0m\u001b[0mbind\u001b[0m\u001b[0;34m(\u001b[0m\u001b[0max\u001b[0m\u001b[0;34m,\u001b[0m \u001b[0;34m*\u001b[0m\u001b[0margs\u001b[0m\u001b[0;34m,\u001b[0m \u001b[0;34m**\u001b[0m\u001b[0mkwargs\u001b[0m\u001b[0;34m)\u001b[0m\u001b[0;34m\u001b[0m\u001b[0;34m\u001b[0m\u001b[0m\n",
      "\u001b[0;32m/usr/local/lib/python3.6/dist-packages/matplotlib/axes/_axes.py\u001b[0m in \u001b[0;36mbar\u001b[0;34m(self, x, height, width, bottom, align, **kwargs)\u001b[0m\n\u001b[1;32m   2428\u001b[0m                 \u001b[0medgecolor\u001b[0m\u001b[0;34m=\u001b[0m\u001b[0me\u001b[0m\u001b[0;34m,\u001b[0m\u001b[0;34m\u001b[0m\u001b[0;34m\u001b[0m\u001b[0m\n\u001b[1;32m   2429\u001b[0m                 \u001b[0mlinewidth\u001b[0m\u001b[0;34m=\u001b[0m\u001b[0mlw\u001b[0m\u001b[0;34m,\u001b[0m\u001b[0;34m\u001b[0m\u001b[0;34m\u001b[0m\u001b[0m\n\u001b[0;32m-> 2430\u001b[0;31m                 \u001b[0mlabel\u001b[0m\u001b[0;34m=\u001b[0m\u001b[0;34m'_nolegend_'\u001b[0m\u001b[0;34m,\u001b[0m\u001b[0;34m\u001b[0m\u001b[0;34m\u001b[0m\u001b[0m\n\u001b[0m\u001b[1;32m   2431\u001b[0m                 )\n\u001b[1;32m   2432\u001b[0m             \u001b[0mr\u001b[0m\u001b[0;34m.\u001b[0m\u001b[0mupdate\u001b[0m\u001b[0;34m(\u001b[0m\u001b[0mkwargs\u001b[0m\u001b[0;34m)\u001b[0m\u001b[0;34m\u001b[0m\u001b[0;34m\u001b[0m\u001b[0m\n",
      "\u001b[0;32m/usr/local/lib/python3.6/dist-packages/matplotlib/patches.py\u001b[0m in \u001b[0;36m__init__\u001b[0;34m(self, xy, width, height, angle, **kwargs)\u001b[0m\n\u001b[1;32m    714\u001b[0m \u001b[0;34m\u001b[0m\u001b[0m\n\u001b[1;32m    715\u001b[0m         \u001b[0mself\u001b[0m\u001b[0;34m.\u001b[0m\u001b[0m_x1\u001b[0m \u001b[0;34m=\u001b[0m \u001b[0mself\u001b[0m\u001b[0;34m.\u001b[0m\u001b[0m_x0\u001b[0m \u001b[0;34m+\u001b[0m \u001b[0mself\u001b[0m\u001b[0;34m.\u001b[0m\u001b[0m_width\u001b[0m\u001b[0;34m\u001b[0m\u001b[0;34m\u001b[0m\u001b[0m\n\u001b[0;32m--> 716\u001b[0;31m         \u001b[0mself\u001b[0m\u001b[0;34m.\u001b[0m\u001b[0m_y1\u001b[0m \u001b[0;34m=\u001b[0m \u001b[0mself\u001b[0m\u001b[0;34m.\u001b[0m\u001b[0m_y0\u001b[0m \u001b[0;34m+\u001b[0m \u001b[0mself\u001b[0m\u001b[0;34m.\u001b[0m\u001b[0m_height\u001b[0m\u001b[0;34m\u001b[0m\u001b[0;34m\u001b[0m\u001b[0m\n\u001b[0m\u001b[1;32m    717\u001b[0m \u001b[0;34m\u001b[0m\u001b[0m\n\u001b[1;32m    718\u001b[0m         \u001b[0mself\u001b[0m\u001b[0;34m.\u001b[0m\u001b[0mangle\u001b[0m \u001b[0;34m=\u001b[0m \u001b[0mfloat\u001b[0m\u001b[0;34m(\u001b[0m\u001b[0mangle\u001b[0m\u001b[0;34m)\u001b[0m\u001b[0;34m\u001b[0m\u001b[0;34m\u001b[0m\u001b[0m\n",
      "\u001b[0;31mTypeError\u001b[0m: unsupported operand type(s) for +: 'int' and 'NoneType'"
     ]
    },
    {
     "data": {
      "image/png": "[encoded data removed]",
      "text/plain": [
       "<Figure size 720x360 with 1 Axes>"
      ]
     },
     "metadata": {
      "needs_background": "light"
     },
     "output_type": "display_data"
    }
   ],
   "source": [
    "rcParams['figure.figsize'] = [10, 5]\n",
    "colors = {0: 'b', 1: 'c', 2: 'y', 3: 'r', 4: 'm', 5: 'k', 6: 'g'}\n",
    "\n",
    "state0 = State(id=0, name='healthy', contagiousity=0, sensitivity=1, severity=0)\n",
    "state1 = State(id=1, name='asymptomatic', contagiousity=.05, sensitivity=0, severity=0.1)\n",
    "state2 = State(id=2, name='mild', contagiousity=.15, sensitivity=0, severity=0.8)\n",
    "state3 = State(id=3, name='hospital', contagiousity=.1, sensitivity=0, severity=1)\n",
    "state4 = State(id=4, name='reanimation', contagiousity=.05, sensitivity=0, severity=1)\n",
    "state5 = State(id=5, name='dead', contagiousity=0, sensitivity=0, severity=1)\n",
    "state6 = State(id=6, name='recovered', contagiousity=0, sensitivity=0, severity=0)\n",
    "\n",
    "\n",
    "states_names = [state.get_name() for state in states]\n",
    "X = array(list(periods_states.keys()))\n",
    "\n",
    "values = {state_name: [v.get('repartition').get(state_name) for v in periods_states.values()] for state_name in states_names}\n",
    "\n",
    "fig = plt.figure()\n",
    "ax = fig.add_axes([0,0,1,1])\n",
    "\n",
    "# colors = cm.rainbow(linspace(0, 1, len(states_names)))\n",
    "delta = 1 / len(states_names)\n",
    "for i, state_name in enumerate(states_names):\n",
    "    ax.bar(X + i * delta, values.get(state_name), color=colors[i], width=delta, label=state_name)\n",
    "    ax.plot(X, values.get(state_name), color=colors[i])\n",
    "\n",
    "ax.legend()\n",
    "ax.set_xlim((X.min(), X.max()))\n",
    "ax.set_xlabel('Time')\n",
    "ax.set_ylabel('Number of cases')\n",
    "ax.set_title('Number of cases in the Different Sates by Time')\n",
    "plt.savefig(os.path.join(img_path, 'nevolution.png'))\n",
    "plt.plot()     "
   ]
  },
  {
   "cell_type": "markdown",
   "metadata": {},
   "source": [
    "At least the shape of the curves looks realistic. It's a good sign. However, the agents seem to get infected to fast with the chosen parameters / setup.\n",
    "\n",
    "What about the *R* coefficient, means the average number of agent infected by each diseased agend?"
   ]
  },
  {
   "cell_type": "code",
   "execution_count": null,
   "metadata": {},
   "outputs": [],
   "source": [
    "fig = plt.figure()\n",
    "ax = fig.add_axes([0,0,1,1])\n",
    "\n",
    "ax.plot(X, r_s, color='b')\n",
    "ax.set_xlabel('Time')\n",
    "ax.set_ylabel('R')\n",
    "ax.set_title('Evolution of R with time')\n",
    "plt.plot()"
   ]
  },
  {
   "cell_type": "markdown",
   "metadata": {},
   "source": [
    "The *R* coefficient seems to take plausible values at the beginning, then decreases quite fast due to herd immunity rapidly acquired on this small population."
   ]
  },
  {
   "cell_type": "markdown",
   "metadata": {},
   "source": [
    "The goal now would be to run a simulation with: \n",
    "* far more agent \n",
    "* more precise transition matrices\n",
    "* adjusted parameters (contagiousity of the states etc.)\n",
    "* adjusted number of move rounds per time period\n",
    "* simulate the effect of a lock down by re-adjusting the parameters (less mobility of the agents, less attractivity of the cells, less unsafety in non-home cells)"
   ]
  },
  {
   "cell_type": "markdown",
   "metadata": {},
   "source": [
    "## Geographical time evolution\n",
    "Here we take the same map, of dimension 100x100. We divide it into 10 squares on each side. Each square could represent a region in a country. We run the simulation through time like previously. At each time period, we count the number of agent in each square that is diseased (or more precisely, the number of agents having their home cell in this square and being in one of the states *asymptomatic*, *mild*, *hospitalized* or *reanimation*).\n",
    "\n",
    "First we associate each square to its agents:"
   ]
  },
  {
   "cell_type": "code",
   "execution_count": null,
   "metadata": {},
   "outputs": [],
   "source": [
    "from itertools import product\n",
    "\n",
    "id2cell = {cell.get_id(): cell for cell in cells}\n",
    "square_mapping = {(i, j): [] for (i, j) in product(range(10), range(10))}\n",
    "\n",
    "for agent in agents:\n",
    "    pos_home_cell = id2cell.get(agent.get_home_cell_id()).get_position()\n",
    "    square_mapping[int(pos_home_cell[0] / 10), int(pos_home_cell[1] / 10)] += [agent.get_id()]"
   ]
  },
  {
   "cell_type": "markdown",
   "metadata": {},
   "source": [
    "Then we run a simulation like before (re-initializing first the state of all the agents to *healthy*). At each time period, we count the number of diseased agent in each square:"
   ]
  },
  {
   "cell_type": "code",
   "execution_count": null,
   "metadata": {},
   "outputs": [],
   "source": [
    "# Reset all the agents to healthy state and none contaminated\n",
    "for agent in agents:\n",
    "    agent.reset(state0)\n",
    "\n",
    "disease_states = [1, 2, 3, 4]  # id of the states corresponding to diseased\n",
    "\n",
    "# Infect a random agent in the map\n",
    "infected_agent_id = choice(range(N_AGENTS))\n",
    "map.get_agent(infected_agent_id).get_infected()\n",
    "\n",
    "square_mappings_ndiseased = {}\n",
    "for i in range(N_PERIODS):\n",
    "    for j in range(N_MOVES_PER_PERIOD):\n",
    "        map.make_move()\n",
    "    map.forward_all_cells()\n",
    "    square_mapping_ndiseased = {(i, j): 0 for (i, j) in product(range(10), range(10))}\n",
    "    for k, v in square_mapping.items():  # iterate through the squares\n",
    "        for agent_id in v:  # iterate through the agents of the square\n",
    "            state_id = map.get_agent(agent_id).get_state().get_id()  # state id of agent\n",
    "            increment = 1 if state_id in disease_states else 0\n",
    "            square_mapping_ndiseased[k] += increment  # increment value of square if agent diseased\n",
    "    square_mappings_ndiseased[i] = square_mapping_ndiseased"
   ]
  },
  {
   "cell_type": "markdown",
   "metadata": {},
   "source": [
    "Here we compute the maximal number of agents having been diseased in squares during the simulation, in order to calibrate the scale of the coming heatmap:"
   ]
  },
  {
   "cell_type": "code",
   "execution_count": null,
   "metadata": {},
   "outputs": [],
   "source": [
    "max_diseased = max([max(list(smn.values())) for smn in square_mappings_ndiseased.values()])"
   ]
  },
  {
   "cell_type": "markdown",
   "metadata": {},
   "source": [
    "And finally, we define a function returning the image (heatmap) of our map for a given day. The image is a heatmap where each square has a color accordingly to the number of diseased agents it contains this day.\n",
    "\n",
    "We produce an image for each day and join them into a gif:"
   ]
  },
  {
   "cell_type": "code",
   "execution_count": null,
   "metadata": {},
   "outputs": [],
   "source": [
    "%%capture\n",
    "\n",
    "def get_image_map(day):\n",
    "    \"\"\" draw the heatmap for a given day \"\"\"\n",
    "    fig, ax = plt.subplots(figsize=(10, 5))\n",
    "    data = zeros((10, 10))\n",
    "    for k, v in square_mappings_ndiseased[day].items():\n",
    "        data[k[0], k[1]] = v\n",
    "\n",
    "    ax = sns.heatmap(data, \n",
    "                     linewidth=0, \n",
    "                     vmin=0, \n",
    "                     vmax=max_diseased, \n",
    "                     cmap=sns.cm.rocket_r, \n",
    "                     xticklabels=False, \n",
    "                     yticklabels=False)\n",
    "    ax.set_title(f'Number of Diseased Agents by Region on the Map\\nDay {day}')\n",
    "    ax.tick_params(left=False, bottom=False)\n",
    "    # Used to return the plot as an image array\n",
    "    fig.canvas.draw()       # draw the canvas, cache the renderer\n",
    "    image = frombuffer(fig.canvas.tostring_rgb(), dtype='uint8')\n",
    "    image  = image.reshape(fig.canvas.get_width_height()[::-1] + (3,))\n",
    "    return image\n",
    "\n",
    "    \n",
    "imageio.mimsave(os.path.join(img_path, 'mapevolution.gif'), \n",
    "                [get_image_map(day) for day in list(square_mappings_ndiseased.keys())], \n",
    "                fps=6)"
   ]
  },
  {
   "cell_type": "markdown",
   "metadata": {},
   "source": [
    "And here is the result, we can see the evolution of diseased people in the different regions of the maps through the time:"
   ]
  },
  {
   "cell_type": "code",
   "execution_count": null,
   "metadata": {},
   "outputs": [],
   "source": [
    "from IPython.display import HTML\n",
    "\n",
    "HTML('<img src=\"../img/mapevolution.gif\">')"
   ]
  },
  {
   "cell_type": "markdown",
   "metadata": {},
   "source": [
    "## Contamination chain\n",
    "With *CAST* it's also to possible which agents each agent has contaminated.\n",
    "\n",
    "For example, we can retrieve the list of ids of agents contaminated by the first infected agent on the map:"
   ]
  },
  {
   "cell_type": "code",
   "execution_count": null,
   "metadata": {},
   "outputs": [],
   "source": [
    "map.get_agent(infected_agent_id).get_contaminated_list()"
   ]
  },
  {
   "cell_type": "markdown",
   "metadata": {},
   "source": [
    "It is also possible to visualise the whole contamination chain (who contaminated who contimated who...):"
   ]
  },
  {
   "cell_type": "code",
   "execution_count": null,
   "metadata": {},
   "outputs": [],
   "source": [
    "import networkx as nx\n",
    "\n",
    "\n",
    "rcParams['figure.figsize'] = [15, 30]\n",
    "\n",
    "agent_ids = list(range(N_AGENTS))\n",
    "\n",
    "G = nx.DiGraph()\n",
    "G.add_nodes_from(agent_ids)  # add all agent ids\n",
    "\n",
    "edge_list, pos = [], {}\n",
    "for agent_id in agent_ids:\n",
    "    agent = map.get_agent(agent_id)\n",
    "    pos[agent_id] = id2cell.get(agent.get_home_cell_id()).get_position()\n",
    "    list_contaminated = map.get_agent(agent_id).get_contaminated_list()\n",
    "    if len(list_contaminated) == 0:\n",
    "        continue\n",
    "    for contaminated_agent_id in list_contaminated:\n",
    "        edge_list.append((agent_id, contaminated_agent_id))\n",
    "        \n",
    "G.add_edges_from(edge_list)\n",
    "\n",
    "nx.draw(G, pos=pos, with_labels=True)\n",
    "plt.savefig(os.path.join(img_path, 'contamination-chain.png'))\n",
    "plt.plot()"
   ]
  },
  {
   "cell_type": "markdown",
   "metadata": {},
   "source": [
    "This is particularly interesting for simulating the effect of contact tracing: once an asymptomatic agent gets to the state *mild* for example, we can consider it's detected and we reduce drastically the mobility of its contamination chain (the agents infected, those infected by those etc.).\n",
    "\n",
    "Now same as before, we can visualize dynamically the contamination chain through time (simulation with the same setup):"
   ]
  },
  {
   "cell_type": "code",
   "execution_count": null,
   "metadata": {},
   "outputs": [],
   "source": [
    "def get_map_graph(map):\n",
    "    \"\"\" plots the contamination map of the map in a given state \"\"\"\n",
    "    G = nx.DiGraph()\n",
    "    G.add_nodes_from(agent_ids)\n",
    "    edge_list, pos = [], {}\n",
    "    for agent_id in agent_ids:\n",
    "        agent = map.get_agent(agent_id)\n",
    "        list_contaminated = map.get_agent(agent_id).get_contaminated_list()\n",
    "        if len(list_contaminated) == 0:\n",
    "            continue\n",
    "        for contaminated_agent_id in list_contaminated:\n",
    "            edge_list.append((agent_id, contaminated_agent_id))\n",
    "\n",
    "    G.add_edges_from(edge_list)\n",
    "    node_colors = [colors.get(agent.get_state().get_id()) for agent in agents]\n",
    "    return G, node_colors\n",
    "\n",
    "\n",
    "# Start simulation\n",
    "# Reset all the agents to healthy state\n",
    "for agent in agents:\n",
    "    agent.reset(state0)\n",
    "\n",
    "# Infect a random agent in the map\n",
    "infected_agent_id = choice(range(N_AGENTS))\n",
    "map.get_agent(infected_agent_id).get_infected()\n",
    "\n",
    "# Iterate through time\n",
    "graph_time = {}\n",
    "for i in range(N_PERIODS):\n",
    "    for j in range(N_MOVES_PER_PERIOD):\n",
    "        map.make_move()\n",
    "    map.forward_all_cells()\n",
    "    G, node_colors = get_map_graph(map)\n",
    "    graph_time[i] = {'G': G, 'node_colors': node_colors}"
   ]
  },
  {
   "cell_type": "code",
   "execution_count": null,
   "metadata": {},
   "outputs": [],
   "source": [
    "%%capture\n",
    "\n",
    "def get_graph_plot(day):\n",
    "    \"\"\" draw contamination chain for a given day \"\"\"\n",
    "    fig, ax = plt.subplots(figsize=(30, 15))\n",
    "    G = graph_time.get(day).get('G')\n",
    "    node_colors = graph_time.get(day).get('node_colors')\n",
    "    nx.draw(G, pos=pos, with_labels=False, ax=ax, node_color=node_colors)\n",
    "    # Used to return the plot as an image array\n",
    "    fig.canvas.draw()       # draw the canvas, cache the renderer\n",
    "    image = frombuffer(fig.canvas.tostring_rgb(), dtype='uint8')\n",
    "    image  = image.reshape(fig.canvas.get_width_height()[::-1] + (3,))\n",
    "    return image\n",
    "\n",
    "    \n",
    "imageio.mimsave(os.path.join(img_path, 'chainevolution.gif'), \n",
    "                [get_graph_plot(day) for day in list(graph_time.keys())], \n",
    "                fps=4)"
   ]
  },
  {
   "cell_type": "code",
   "execution_count": null,
   "metadata": {},
   "outputs": [],
   "source": [
    "HTML('<img src=\"../img/chainevolution.gif\">')"
   ]
  },
  {
   "cell_type": "code",
   "execution_count": null,
   "metadata": {},
   "outputs": [],
   "source": []
  },
  {
   "cell_type": "code",
   "execution_count": null,
   "metadata": {},
   "outputs": [],
   "source": []
  },
  {
   "cell_type": "code",
   "execution_count": null,
   "metadata": {},
   "outputs": [],
   "source": []
  }
 ],
 "metadata": {
  "kernelspec": {
   "display_name": "Python 3",
   "language": "python",
   "name": "python3"
  },
  "language_info": {
   "codemirror_mode": {
    "name": "ipython",
    "version": 3
   },
   "file_extension": ".py",
   "mimetype": "text/x-python",
   "name": "python",
   "nbconvert_exporter": "python",
   "pygments_lexer": "ipython3",
   "version": "3.6.9"
  }
 },
 "nbformat": 4,
 "nbformat_minor": 2
}
